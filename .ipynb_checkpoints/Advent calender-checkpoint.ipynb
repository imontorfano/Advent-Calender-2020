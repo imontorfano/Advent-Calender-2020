{
 "cells": [
  {
   "cell_type": "markdown",
   "metadata": {},
   "source": [
    "# DAY 1 - Part 1"
   ]
  },
  {
   "cell_type": "code",
   "execution_count": 166,
   "metadata": {},
   "outputs": [
    {
     "name": "stdout",
     "output_type": "stream",
     "text": [
      "270144\n"
     ]
    }
   ],
   "source": [
    "from itertools import combinations_with_replacement\n",
    "from math import prod\n",
    "file = \"input.txt\"\n",
    "input_content = open(file, \"r\")\n",
    "input_vals = [int(str_val) for str_val in input_content.read().splitlines()]\n",
    "answer = [prod(p) for p in list(combinations_with_replacement(input_vals, 2)) if sum(p) == 2020]\n",
    "for ans in answer:\n",
    "    print(ans)"
   ]
  },
  {
   "cell_type": "markdown",
   "metadata": {},
   "source": [
    "# DAY 1 - Part 2"
   ]
  },
  {
   "cell_type": "code",
   "execution_count": 167,
   "metadata": {},
   "outputs": [
    {
     "name": "stdout",
     "output_type": "stream",
     "text": [
      "261342720\n"
     ]
    }
   ],
   "source": [
    "from itertools import combinations_with_replacement\n",
    "from math import prod\n",
    "file = \"input.txt\"\n",
    "input_content = open(file, \"r\")\n",
    "input_vals = [int(str_val) for str_val in input_content.read().splitlines()]  \n",
    "answer = [prod(p) for p in list(combinations_with_replacement(input_vals, 3)) if sum(p) == 2020]\n",
    "for ans in answer:\n",
    "    print(ans)"
   ]
  },
  {
   "cell_type": "markdown",
   "metadata": {},
   "source": [
    "# DAY 2 - Part 1"
   ]
  },
  {
   "cell_type": "code",
   "execution_count": 416,
   "metadata": {},
   "outputs": [
    {
     "name": "stdout",
     "output_type": "stream",
     "text": [
      "La cantidad de passwords validos son: 603\n"
     ]
    }
   ],
   "source": [
    "file = \"inputd2.txt\"\n",
    "input_content = open(file, \"r\")\n",
    "input_vals = [str_val for str_val in input_content.read().splitlines()]\n",
    "contador = 0\n",
    "for i in input_vals:\n",
    "    minimo = int(i.partition('-')[0])      #Me traigo el minimo particionando el string a partir de \"-\" donde 0 es la primer porcion, 1 es \"-\" y 2 es la segunda parte\n",
    "    maximo = int(i.partition('-')[2][:2])  #Lo mismo pero me traigo los primeros 2 caracteres de la segunda particion\n",
    "    letra = i.partition(' ')[2][:1]        #Particiono por \" \" y me traigo la letra que esta en la primera posicion\n",
    "    password = i.partition(': ')[2]        #Guardo el string a evaluar\n",
    "    if password.count(letra) >= minimo and password.count(letra) <= maximo:\n",
    "        contador = contador + 1\n",
    "print(\"La cantidad de passwords validos son: \" + str(contador))\n"
   ]
  },
  {
   "cell_type": "markdown",
   "metadata": {},
   "source": [
    "# DAY 2 - Part 2"
   ]
  },
  {
   "cell_type": "code",
   "execution_count": 417,
   "metadata": {},
   "outputs": [
    {
     "name": "stdout",
     "output_type": "stream",
     "text": [
      "La cantidad de passwords validos son: 404\n"
     ]
    }
   ],
   "source": [
    "contador = 0\n",
    "for i in input_vals:\n",
    "    minimo = int(i.partition('-')[0])\n",
    "    maximo = int(i.partition('-')[2][:2])\n",
    "    letra = i.partition(' ')[2][:1]\n",
    "    string = i.partition(': ')[2]\n",
    "    letra1 = string[minimo-1:minimo]         # Me traigo la letra correspondiente a la posicion 1\n",
    "    letra2 = string[maximo-1:maximo]         # Me traigo la letra correspondiente a la posicion 2\n",
    "    if letra1 == letra and letra2 != letra or letra1 != letra and letra2 == letra:\n",
    "        contador = contador + 1\n",
    "print(\"La cantidad de passwords validos son: \" + str(contador))"
   ]
  },
  {
   "cell_type": "markdown",
   "metadata": {},
   "source": [
    "# DAY 3 - Part 1"
   ]
  },
  {
   "cell_type": "code",
   "execution_count": 307,
   "metadata": {},
   "outputs": [
    {
     "name": "stdout",
     "output_type": "stream",
     "text": [
      "La cantidad de arboles son: 250\n"
     ]
    }
   ],
   "source": [
    "file = \"inputd3.txt\"\n",
    "input_content = open(file, \"r\")\n",
    "input_vals = [str_val for str_val in input_content.read().splitlines()]\n",
    "\n",
    "positionf = 1\n",
    "positionc = 0\n",
    "counttrees = 0\n",
    "iter_vals = iter(input_vals)\n",
    "next(iter_vals)\n",
    "for i in iter_vals:\n",
    "    positionc = positionc + 1\n",
    "    positionf = positionf + 3\n",
    "    #print(str(positionf) + str(' ') + str(input_vals[positionc]) + str(' ') +  str(' ') + str(positionc) + str(input_vals[positionc][positionf-1:positionf]))\n",
    "    if input_vals[positionc][positionf-1:positionf] == '#':\n",
    "        counttrees += 1\n",
    "    if positionf > 28:\n",
    "        positionf = positionf - 31\n",
    "print(str('La cantidad de arboles son: ') + str(counttrees))"
   ]
  },
  {
   "cell_type": "markdown",
   "metadata": {},
   "source": [
    "# DAY 3 - Part 2"
   ]
  },
  {
   "cell_type": "code",
   "execution_count": 413,
   "metadata": {},
   "outputs": [
    {
     "name": "stdout",
     "output_type": "stream",
     "text": [
      "La cantidad de arboles son: 55\n",
      "La cantidad de arboles son: 250\n",
      "La cantidad de arboles son: 54\n",
      "La cantidad de arboles son: 55\n",
      "La cantidad de arboles son: 39\n",
      "La cantidad de arboles son: 1592662500\n"
     ]
    }
   ],
   "source": [
    "file = \"inputd3.txt\"\n",
    "input_content = open(file, \"r\")\n",
    "input_vals = [str_val for str_val in input_content.read().splitlines()]\n",
    "\n",
    "counttreesprod = 1\n",
    "longitud = len(input_vals)\n",
    "pasos = [(1, 1), (3, 1), (5, 1), (7, 1), (1, 2)]\n",
    "\n",
    "for pasoderecha, pasoabajo in pasos:\n",
    "    positionf = 1\n",
    "    positionc = 0\n",
    "    counttrees = 0\n",
    "    iter_vals = iter(input_vals)\n",
    "    next(iter_vals)\n",
    "    for i in iter_vals:\n",
    "        positionc = positionc + pasoabajo\n",
    "        positionf = positionf + pasoderecha\n",
    "        if positionc > longitud: #chapuza\n",
    "            continue\n",
    "        else:\n",
    "            #print(str(positionf) + str(' ') + str(input_vals[positionc]) + str(' ') +  str(' ') + str(positionc) + str(input_vals[positionc][positionf-1:positionf]))\n",
    "            if input_vals[positionc][positionf-1:positionf] == '#':\n",
    "                counttrees += 1\n",
    "            if positionf > 31 - pasoderecha:\n",
    "                positionf = positionf - 31\n",
    "    print(str('La cantidad de arboles son: ') + str(counttrees))\n",
    "    counttreesprod = counttrees * counttreesprod\n",
    "print(str('La cantidad de arboles son: ') + str(counttreesprod))"
   ]
  }
 ],
 "metadata": {
  "kernelspec": {
   "display_name": "Python 3",
   "language": "python",
   "name": "python3"
  },
  "language_info": {
   "codemirror_mode": {
    "name": "ipython",
    "version": 3
   },
   "file_extension": ".py",
   "mimetype": "text/x-python",
   "name": "python",
   "nbconvert_exporter": "python",
   "pygments_lexer": "ipython3",
   "version": "3.8.3"
  }
 },
 "nbformat": 4,
 "nbformat_minor": 4
}
