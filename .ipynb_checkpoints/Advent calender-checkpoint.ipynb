{
 "cells": [
  {
   "cell_type": "markdown",
   "metadata": {},
   "source": [
    "# DAY 1 - Part 1"
   ]
  },
  {
   "cell_type": "code",
   "execution_count": 166,
   "metadata": {},
   "outputs": [
    {
     "name": "stdout",
     "output_type": "stream",
     "text": [
      "270144\n"
     ]
    }
   ],
   "source": [
    "from itertools import combinations_with_replacement\n",
    "from math import prod\n",
    "file = \"input.txt\"\n",
    "input_content = open(file, \"r\")\n",
    "input_vals = [int(str_val) for str_val in input_content.read().splitlines()]\n",
    "answer = [prod(p) for p in list(combinations_with_replacement(input_vals, 2)) if sum(p) == 2020]\n",
    "for ans in answer:\n",
    "    print(ans)"
   ]
  },
  {
   "cell_type": "markdown",
   "metadata": {},
   "source": [
    "# DAY 1 - Part 2"
   ]
  },
  {
   "cell_type": "code",
   "execution_count": 167,
   "metadata": {},
   "outputs": [
    {
     "name": "stdout",
     "output_type": "stream",
     "text": [
      "261342720\n"
     ]
    }
   ],
   "source": [
    "from itertools import combinations_with_replacement\n",
    "from math import prod\n",
    "file = \"input.txt\"\n",
    "input_content = open(file, \"r\")\n",
    "input_vals = [int(str_val) for str_val in input_content.read().splitlines()]  \n",
    "answer = [prod(p) for p in list(combinations_with_replacement(input_vals, 3)) if sum(p) == 2020]\n",
    "for ans in answer:\n",
    "    print(ans)"
   ]
  },
  {
   "cell_type": "markdown",
   "metadata": {},
   "source": [
    "# DAY 2 - Part 1"
   ]
  },
  {
   "cell_type": "code",
   "execution_count": 416,
   "metadata": {},
   "outputs": [
    {
     "name": "stdout",
     "output_type": "stream",
     "text": [
      "La cantidad de passwords validos son: 603\n"
     ]
    }
   ],
   "source": [
    "file = \"inputd2.txt\"\n",
    "input_content = open(file, \"r\")\n",
    "input_vals = [str_val for str_val in input_content.read().splitlines()]\n",
    "contador = 0\n",
    "for i in input_vals:\n",
    "    minimo = int(i.partition('-')[0])      #Me traigo el minimo particionando el string a partir de \"-\" donde 0 es la primer porcion, 1 es \"-\" y 2 es la segunda parte\n",
    "    maximo = int(i.partition('-')[2][:2])  #Lo mismo pero me traigo los primeros 2 caracteres de la segunda particion\n",
    "    letra = i.partition(' ')[2][:1]        #Particiono por \" \" y me traigo la letra que esta en la primera posicion\n",
    "    password = i.partition(': ')[2]        #Guardo el string a evaluar\n",
    "    if password.count(letra) >= minimo and password.count(letra) <= maximo:\n",
    "        contador = contador + 1\n",
    "print(\"La cantidad de passwords validos son: \" + str(contador))\n"
   ]
  },
  {
   "cell_type": "markdown",
   "metadata": {},
   "source": [
    "# DAY 2 - Part 2"
   ]
  },
  {
   "cell_type": "code",
   "execution_count": 417,
   "metadata": {},
   "outputs": [
    {
     "name": "stdout",
     "output_type": "stream",
     "text": [
      "La cantidad de passwords validos son: 404\n"
     ]
    }
   ],
   "source": [
    "contador = 0\n",
    "for i in input_vals:\n",
    "    minimo = int(i.partition('-')[0])\n",
    "    maximo = int(i.partition('-')[2][:2])\n",
    "    letra = i.partition(' ')[2][:1]\n",
    "    string = i.partition(': ')[2]\n",
    "    letra1 = string[minimo-1:minimo]         # Me traigo la letra correspondiente a la posicion 1\n",
    "    letra2 = string[maximo-1:maximo]         # Me traigo la letra correspondiente a la posicion 2\n",
    "    if letra1 == letra and letra2 != letra or letra1 != letra and letra2 == letra:\n",
    "        contador = contador + 1\n",
    "print(\"La cantidad de passwords validos son: \" + str(contador))"
   ]
  },
  {
   "cell_type": "markdown",
   "metadata": {},
   "source": [
    "# DAY 3 - Part 1"
   ]
  },
  {
   "cell_type": "code",
   "execution_count": 458,
   "metadata": {},
   "outputs": [
    {
     "name": "stdout",
     "output_type": "stream",
     "text": [
      "La cantidad de arboles son: 250\n"
     ]
    }
   ],
   "source": [
    "file = \"inputd3.txt\"\n",
    "input_content = open(file, \"r\")\n",
    "input_vals = [str_val for str_val in input_content.read().splitlines()]\n",
    "\n",
    "longitudx = len(input_vals[0])\n",
    "positionf, positionc, counttrees = (1, 0, 0)\n",
    "iter_vals = iter(input_vals)\n",
    "next(iter_vals)\n",
    "for i in iter_vals:\n",
    "    positionc = positionc + 1\n",
    "    positionf = positionf + 3\n",
    "    #print(str(positionf) + str(' ') + str(input_vals[positionc]) + str(' ') +  str(' ') + str(positionc) + str(input_vals[positionc][positionf-1:positionf]))\n",
    "    if input_vals[positionc][positionf-1:positionf] == '#':\n",
    "        counttrees += 1\n",
    "    if positionf > longitudx - 3:\n",
    "        positionf = positionf - longitudx\n",
    "print(str('La cantidad de arboles son: ') + str(counttrees))"
   ]
  },
  {
   "cell_type": "markdown",
   "metadata": {},
   "source": [
    "# DAY 3 - Part 2"
   ]
  },
  {
   "cell_type": "code",
   "execution_count": 472,
   "metadata": {},
   "outputs": [
    {
     "name": "stdout",
     "output_type": "stream",
     "text": [
      "La cantidad de arboles multiplicados son: 1592662500\n"
     ]
    }
   ],
   "source": [
    "file = \"inputd3.txt\"\n",
    "input_content = open(file, \"r\")\n",
    "input_vals = [str_val for str_val in input_content.read().splitlines()]\n",
    "\n",
    "counttreesprod = 1\n",
    "longitudy = len(input_vals)\n",
    "longitudx = len(input_vals[0])\n",
    "pasos = [(1, 1), (3, 1), (5, 1), (7, 1), (1, 2)]\n",
    "\n",
    "for pasoderecha, pasoabajo in pasos:\n",
    "    positionx, counttrees = (1, 0)\n",
    "    for i in range(pasoabajo,longitudy,pasoabajo):\n",
    "        positionx = positionx + pasoderecha\n",
    "        #print(str(positionx) + str(' ') + str(input_vals[i]) + str(' ') +  str(' ') + str(i) + str(input_vals[i][positionx-1:positionx]))\n",
    "        if input_vals[i][positionx-1:positionx] == '#':\n",
    "            counttrees += 1\n",
    "        if positionx > longitudx - pasoderecha:\n",
    "            positionx = positionx - longitudx\n",
    "    #print(str('La cantidad de arboles son: ') + str(counttrees))\n",
    "    counttreesprod = counttrees * counttreesprod\n",
    "print(str('La cantidad de arboles multiplicados son: ') + str(counttreesprod))"
   ]
  },
  {
   "cell_type": "markdown",
   "metadata": {},
   "source": [
    "# DAY 4 - Part 1"
   ]
  },
  {
   "cell_type": "code",
   "execution_count": 237,
   "metadata": {},
   "outputs": [
    {
     "name": "stdout",
     "output_type": "stream",
     "text": [
      "222\n"
     ]
    }
   ],
   "source": [
    "import re\n",
    "\n",
    "file = \"inputd4.txt\"\n",
    "input_content = open(file, \"r\")\n",
    "input_vals = input_content.read().split('\\n\\n')\n",
    "\n",
    "input_vals = [re.sub('\\n',' ',passport) for passport in input_vals]\n",
    "\n",
    "countpassport = 0\n",
    "\n",
    "for i in input_vals:\n",
    "    if bool(re.search('byr', i)) == True and bool(re.search('iyr', i)) == True and bool(re.search('eyr', i)) == True and bool(re.search('ecl', i)) == True and bool(re.search('hgt', i)) == True and bool(re.search('hcl', i)) == True and bool(re.search('ecl', i)) == True and bool(re.search('pid', i)) == True:\n",
    "        countpassport = countpassport + 1\n",
    "        #print(i)\n",
    "print(countpassport)\n"
   ]
  },
  {
   "cell_type": "markdown",
   "metadata": {},
   "source": [
    "# DAY 4 - Part 2"
   ]
  },
  {
   "cell_type": "code",
   "execution_count": 258,
   "metadata": {},
   "outputs": [
    {
     "name": "stdout",
     "output_type": "stream",
     "text": [
      "141\n"
     ]
    }
   ],
   "source": [
    "import re\n",
    "\n",
    "file = \"inputd4.txt\"\n",
    "input_content = open(file, \"r\")\n",
    "input_vals = input_content.read().split('\\n\\n')\n",
    "requirements = [\n",
    "r'byr:((19[2-9]\\d)|(200[0-2]))',\n",
    "r'iyr:((201\\d)|2020)',\n",
    "r'eyr:((202\\d)|2030)',\n",
    "r'hgt:(((1(([5-8]\\d)|(9[0-3])))cm)|((59)|(6\\d)in|(7[0-6])in))',\n",
    "r'hcl:#(\\d|[a-f]){6}',\n",
    "r'ecl:(amb|blu|brn|gry|grn|hzl|oth)',\n",
    "r'pid:([0-9]{9})' #Me esta tomando uno que tiene 10 digitos y por eso me toma 1 mas de lo que es. Corregir.\n",
    "]\n",
    "\n",
    "input_vals = [re.sub('\\n',' ',passport) for passport in input_vals]\n",
    "\n",
    "countpassport = 0\n",
    "counter = 0\n",
    "for passport in input_vals:\n",
    "    #print('\\n' + passport)\n",
    "    for fields in requirements:\n",
    "            if re.search(fields, passport) != None:\n",
    "                counter += 1\n",
    "                #print(re.search(fields, passport))\n",
    "            if counter == 7:\n",
    "                countpassport += 1\n",
    "                #print('\\n OK')\n",
    "    counter = 0\n",
    "print(countpassport)"
   ]
  },
  {
   "cell_type": "markdown",
   "metadata": {},
   "source": [
    "# DAY 5 - Part 1"
   ]
  },
  {
   "cell_type": "code",
   "execution_count": 45,
   "metadata": {},
   "outputs": [
    {
     "name": "stdout",
     "output_type": "stream",
     "text": [
      "901\n"
     ]
    }
   ],
   "source": [
    "import math\n",
    "file = \"inputd5.txt\"\n",
    "input_content = open(file, \"r\")\n",
    "input_vals = input_content.read().split()\n",
    "\n",
    "prodboardmax = 0\n",
    "lista = []\n",
    "\n",
    "for boardings in input_vals:\n",
    "    lowr, upr, lowc, upc = [0, 127, 0, 7]\n",
    "    for row in range(7):\n",
    "        if boardings[row:row+1] == 'F':\n",
    "            lowr = lowr\n",
    "            upr = math.floor((upr+lowr)/2)\n",
    "        if boardings[row:row+1] == 'B':\n",
    "            lowr = math.ceil((upr+lowr)/2)\n",
    "            upr = upr     \n",
    "    for column in range(3):\n",
    "        if boardings[column+7:column+7+1] == 'L':\n",
    "            lowc = lowc\n",
    "            upc = math.floor((upc+lowc)/2)\n",
    "        if boardings[column+7:column+7+1] == 'R':\n",
    "            lowc = math.ceil((upc+lowc)/2)\n",
    "            upc = upc\n",
    "    \n",
    "    prodboarding = upr * 8 + upc\n",
    "    lista.append(prodboarding)\n",
    "    #print(str(boardings) + str(' ') + str(upr) + str(' ') + str(upc) + str(' ') + str(prodboarding))\n",
    "    \n",
    "    if prodboarding > prodboardmax:\n",
    "        prodboardmax = prodboarding\n",
    "print(prodboardmax)"
   ]
  },
  {
   "cell_type": "markdown",
   "metadata": {},
   "source": [
    "# DAY 5 - Part 2"
   ]
  },
  {
   "cell_type": "code",
   "execution_count": 57,
   "metadata": {},
   "outputs": [
    {
     "data": {
      "text/plain": [
       "{661}"
      ]
     },
     "execution_count": 57,
     "metadata": {},
     "output_type": "execute_result"
    }
   ],
   "source": [
    "import math\n",
    "file = \"inputd5.txt\"\n",
    "input_content = open(file, \"r\")\n",
    "input_vals = input_content.read().split()\n",
    "\n",
    "prodboardmax = 0\n",
    "lista = []\n",
    "listacompleta = list(range(84, 902)) \n",
    "for boardings in input_vals:\n",
    "    lowr, upr, lowc, upc = [0, 127, 0, 7]\n",
    "    for row in range(7):\n",
    "        if boardings[row:row+1] == 'F':\n",
    "            lowr = lowr\n",
    "            upr = math.floor((upr+lowr)/2)\n",
    "        if boardings[row:row+1] == 'B':\n",
    "            lowr = math.ceil((upr+lowr)/2)\n",
    "            upr = upr     \n",
    "    for column in range(3):\n",
    "        if boardings[column+7:column+7+1] == 'L':\n",
    "            lowc = lowc\n",
    "            upc = math.floor((upc+lowc)/2)\n",
    "        if boardings[column+7:column+7+1] == 'R':\n",
    "            lowc = math.ceil((upc+lowc)/2)\n",
    "            upc = upc\n",
    "    \n",
    "    prodboarding = upr * 8 + upc\n",
    "    lista.append(prodboarding)\n",
    "    #print(str(boardings) + str(' ') + str(upr) + str(' ') + str(upc) + str(' ') + str(prodboarding))\n",
    "    \n",
    "    if prodboarding > prodboardmax:\n",
    "        prodboardmax = prodboarding\n",
    "\n",
    "#print(lista)\n",
    "#lista.sort()\n",
    "set(lista) ^ set(listacompleta)"
   ]
  },
  {
   "cell_type": "markdown",
   "metadata": {},
   "source": [
    "# DAY 6 - Part 1"
   ]
  },
  {
   "cell_type": "code",
   "execution_count": 146,
   "metadata": {},
   "outputs": [
    {
     "name": "stdout",
     "output_type": "stream",
     "text": [
      "6542\n"
     ]
    }
   ],
   "source": [
    "file = \"inputd6.txt\"\n",
    "input_content = open(file, \"r\")\n",
    "input_vals = input_content.read().split('\\n\\n')\n",
    "\n",
    "input_vals = [re.sub('\\n','',answers) for answers in input_vals]\n",
    "\n",
    "count = 0\n",
    "\n",
    "for i in input_vals:\n",
    "    s=set(i)  #Creates a set of Unique Un-Ordered letters\n",
    "    count = count + len(s) #The lenght of the unique letters\n",
    "print(count)"
   ]
  },
  {
   "cell_type": "markdown",
   "metadata": {},
   "source": [
    "# DAY 6 - Part 2"
   ]
  },
  {
   "cell_type": "code",
   "execution_count": 147,
   "metadata": {},
   "outputs": [
    {
     "name": "stdout",
     "output_type": "stream",
     "text": [
      "3299.0\n"
     ]
    }
   ],
   "source": [
    "import re\n",
    "file = \"inputd6.txt\"\n",
    "input_content = open(file, \"r\")\n",
    "input_vals = input_content.read().split('\\n\\n')\n",
    "input_vals = [re.sub('\\n',' ',answers) for answers in input_vals]\n",
    "\n",
    "count = 0\n",
    "\n",
    "for i in input_vals:\n",
    "    espacios = 0\n",
    "    i = i.rstrip()  #Erase the last space in string\n",
    "    espacios = sum(c.isspace() for c in i) + 1 #Count the number of spaces in string (persons)\n",
    "    if espacios != 0: #Many persons\n",
    "        count = count + (sum(1 for c in i if i.count(c) == espacios)/espacios) #Count each time the letter repeats the number of persons\n",
    "    else: #Just 1 person (no spaces)\n",
    "        count = count + sum(1 for c in i if i.count(c) == 1)\n",
    "print(count)"
   ]
  },
  {
   "cell_type": "code",
   "execution_count": null,
   "metadata": {},
   "outputs": [],
   "source": [
    "# DAY 7 - Part 1"
   ]
  },
  {
   "cell_type": "code",
   "execution_count": 149,
   "metadata": {},
   "outputs": [
    {
     "name": "stdout",
     "output_type": "stream",
     "text": [
      "185 different colors can contain 'shiny gold.'\n",
      "89084 bags are in a 'shiny gold.'\n"
     ]
    }
   ],
   "source": [
    "def parse(filename):\n",
    "    \"\"\"Parse the input file to form two digraphs: one showing\n",
    "    which bags are able to be contained in which and the other\n",
    "    showing which bags contain what numbers of which other bags.\n",
    "    \"\"\"\n",
    "    parents = dict()\n",
    "    children = dict()\n",
    "\n",
    "    with open(filename, \"r\") as f:\n",
    "        lines = f.readlines()\n",
    "\n",
    "    # Figure out which colors we have\n",
    "    for line in lines:\n",
    "        color = \" \".join(line.split()[:2])\n",
    "        parents[color] = []\n",
    "        children[color] = []\n",
    "\n",
    "    # Fill in the digraphs\n",
    "    for line in lines:\n",
    "        words = line.split()\n",
    "        if \"no other\" in line:\n",
    "            continue\n",
    "        parent_color = \" \".join(words[:2])\n",
    "\n",
    "        child_words = iter(words[4:])\n",
    "        while True:\n",
    "            count = int(next(child_words))\n",
    "            child_adj = next(child_words)\n",
    "            child_color = next(child_words)\n",
    "            child_name = f\"{child_adj} {child_color}\"\n",
    "            parents[child_name].append(parent_color)\n",
    "            children[parent_color].append((child_name, count))\n",
    "            if next(child_words)[-1] == \".\":\n",
    "                break\n",
    "    return parents, children\n",
    "\n",
    "\n",
    "def holders(color, parents_graph):\n",
    "    \"\"\"Build a set of all unique bags which can contain the \n",
    "    requested bag color.\n",
    "    \"\"\"\n",
    "    result = set(parents_graph[color])\n",
    "    for c in parents_graph[color]:\n",
    "        result |= holders(c, parents_graph)\n",
    "    return result\n",
    "\n",
    "\n",
    "def count_contents(color, children_graph):\n",
    "    \"\"\"Add up the bags inside a given bag plus all of the bags within\n",
    "    each of each child bags.\n",
    "    \"\"\"\n",
    "    return sum(count + count * count_contents(child_color, children_graph) \n",
    "                for child_color, count in children_graph[color])\n",
    "\n",
    "def part1(parents_graph):\n",
    "    gold_holders = len(holders(\"shiny gold\", parents_graph))\n",
    "    print(f\"{gold_holders} different colors can contain 'shiny gold.'\")\n",
    "\n",
    "\n",
    "def part2(children_graph):\n",
    "    print(f\"{count_contents('shiny gold', children_graph)} bags are in a 'shiny gold.'\")\n",
    "\n",
    "\n",
    "if __name__ == \"__main__\":\n",
    "    parents, children = parse(\"inputd7.txt\")\n",
    "    part1(parents)\n",
    "    part2(children)"
   ]
  },
  {
   "cell_type": "code",
   "execution_count": null,
   "metadata": {},
   "outputs": [],
   "source": [
    "# DAY 8 - Part 1"
   ]
  },
  {
   "cell_type": "code",
   "execution_count": 161,
   "metadata": {},
   "outputs": [
    {
     "data": {
      "text/plain": [
       "'acc +44\\n'"
      ]
     },
     "execution_count": 161,
     "metadata": {},
     "output_type": "execute_result"
    }
   ],
   "source": [
    "file = \"inputd8.txt\"\n",
    "t = open(file,'r')\n",
    "dict_pos = {}\n",
    "\n",
    "kolvo = 0\n",
    "length = 0\n",
    "for each in t:\n",
    "    dict_pos[kolvo] = length\n",
    "    length = length+len(each)\n",
    "    kolvo = kolvo+1\n",
    "\n",
    "def give_line(line_number):\n",
    "    t.seek(dict_pos.get(line_number))\n",
    "    line = t.readline()\n",
    "    return line\n",
    "\n",
    "\n",
    "give_line(1)"
   ]
  }
 ],
 "metadata": {
  "kernelspec": {
   "display_name": "Python 3",
   "language": "python",
   "name": "python3"
  },
  "language_info": {
   "codemirror_mode": {
    "name": "ipython",
    "version": 3
   },
   "file_extension": ".py",
   "mimetype": "text/x-python",
   "name": "python",
   "nbconvert_exporter": "python",
   "pygments_lexer": "ipython3",
   "version": "3.8.3"
  }
 },
 "nbformat": 4,
 "nbformat_minor": 4
}
